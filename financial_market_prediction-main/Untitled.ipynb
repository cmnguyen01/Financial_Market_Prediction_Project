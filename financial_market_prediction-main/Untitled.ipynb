{
 "cells": [
  {
   "cell_type": "code",
   "execution_count": 41,
   "id": "8d5ffe92",
   "metadata": {},
   "outputs": [],
   "source": [
    "from data_loader import kline_api\n",
    "from data_loader.generate_columns import generate, Data, Coinmarket\n",
    "from datetime import datetime, timezone, timedelta\n",
    "import time\n",
    "import numpy as np\n",
    "from scipy import stats\n",
    "import datetime as dt\n",
    "import matplotlib.pyplot as plt"
   ]
  },
  {
   "cell_type": "code",
   "execution_count": 5,
   "id": "90cd43fb",
   "metadata": {},
   "outputs": [],
   "source": [
    "def query_coin(coin, market):\n",
    "    query = Coinmarket.select().where(Coinmarket.coin == coin, Coinmarket.market == market)\n",
    "    try:\n",
    "        return query[0]\n",
    "    except IndexError:\n",
    "        # Coin doesn't exist\n",
    "        return False\n",
    "    \n",
    "def query_candles(coin, market, limit=None, start_date=None, end_date=None):\n",
    "    from historical_data import Coinmarket, Data\n",
    "    query = query_coin(coin, market)\n",
    "    if(query != False):\n",
    "        if(limit == None):\n",
    "            if(isinstance(start_date, str)):\n",
    "                start_date = convert(start_date)\n",
    "            if(isinstance(end_date, str)):\n",
    "                end_date = convert(end_date)\n",
    "                # return Data.select().join(Coinmarket).where(Coinmarket.coin == coin, Coinmarket.market == market).order_by(Data.timestamp.asc())\n",
    "            if(start_date == None and end_date != None):\n",
    "                return Data.select().where(Data.timestamp <= end_date).join(Coinmarket).where(Coinmarket.coin == coin, Coinmarket.market == market).order_by(Data.timestamp.asc())\n",
    "            elif(start_date != None and end_date == None):\n",
    "                return Data.select().where(Data.timestamp >= start_date).join(Coinmarket).where(Coinmarket.coin == coin, Coinmarket.market == market).order_by(Data.timestamp.asc())\n",
    "            elif(start_date != None and end_date != None):\n",
    "                return Data.select().where(Data.timestamp >= start_date, Data.timestamp <= end_date).join(Coinmarket).where(Coinmarket.coin == coin, Coinmarket.market == market).order_by(Data.timestamp.asc())\n",
    "            elif(start_date == None and end_date == None):\n",
    "                return Data.select().join(Coinmarket).where(Coinmarket.coin == coin, Coinmarket.market == market).order_by(Data.timestamp.asc())\n",
    "        else:\n",
    "            return Data.select().join(Coinmarket).where(Coinmarket.coin == coin, Coinmarket.market == market).order_by(Data.timestamp.asc()).limit(limit)\n",
    "    else:\n",
    "        return False"
   ]
  },
  {
   "cell_type": "code",
   "execution_count": 13,
   "id": "6daee1e1",
   "metadata": {},
   "outputs": [],
   "source": [
    "import re\n",
    "\n",
    "def convertCandles(coin, market, interval):\n",
    "\n",
    "    def splitInterval(interval):\n",
    "        res = re.findall('(\\d+|[A-Za-z]+)', interval)\n",
    "        return int(res[0]), res[1]\n",
    "\n",
    "    interval_num, interval_type = splitInterval(interval)\n",
    "\n",
    "    t = 1648706280000\n",
    "    ts = datetime.fromtimestamp(int(t/1000))\n",
    "\n",
    "\n",
    "    pretend_data = query_candles(coin, market)\n",
    "\n",
    "    candle_array = []\n",
    "    candle = {\n",
    "      \"high\": [],\n",
    "      \"low\": [],\n",
    "      \"close\": 0,\n",
    "      \"BV\": 0, # BTC Vol\n",
    "      \"V\": 0, # Assets traded\n",
    "    }\n",
    "\n",
    "    current_count = {interval_type: 0}\n",
    "    for value in range(1, len(pretend_data)):\n",
    "        cur_time = datetime.fromtimestamp(int(pretend_data[value - 1].timestamp/1000))\n",
    "        next_time = datetime.fromtimestamp(int(pretend_data[value].timestamp/1000))\n",
    "        i = pretend_data[value-1]\n",
    "        # PUT STUFF IN CANDLE DICT\n",
    "        if(\"open\" not in candle and \"timestamp\" not in candle):\n",
    "            candle[\"open\"] = float(i.open)\n",
    "            candle['timestamp'] = i.timestamp\n",
    "    #         print(f\"New candle {datetime.fromtimestamp(int(pretend_data[value].timestamp/1000))}\")\n",
    "\n",
    "        candle['low'].append(float(i.low))\n",
    "        candle['high'].append(float(i.high))\n",
    "        candle['BV'] += float(i.shares)\n",
    "        candle['V'] += float(i.btc_vol)\n",
    "        if(interval_type == \"h\"):\n",
    "            if(cur_time.hour != next_time.hour):\n",
    "                current_count[interval_type] += 1\n",
    "\n",
    "                if((cur_time.hour + 1) % interval_num == 0):\n",
    "#                     print(cur_time, next_time)\n",
    "                    candle['close'] = float(i.close)\n",
    "                    candle_array.append({\"timestamp\": candle['timestamp'], \"interval\": \"{}\".format(interval), \"open\": candle['open'], 'high': max(candle['high']), \"low\": min(candle['low']), \"close\": candle['close'], \"BV\": round(candle['BV'], 8), \"V\": round(candle['V'], 8)})\n",
    "                    # print()\n",
    "                    candle = {\n",
    "                      \"high\": [],\n",
    "                      \"low\": [],\n",
    "                      \"close\": 0,\n",
    "                      \"BV\": 0,\n",
    "                      \"V\": 0,\n",
    "                    }\n",
    "                    current_count[interval_type] = 0\n",
    "        elif(interval_type == \"m\"):\n",
    "            if(cur_time.minute != next_time):\n",
    "                current_count[interval_type] += 1\n",
    "\n",
    "                if((cur_time.minute + 1) % interval_num == 0):\n",
    "#                     print(cur_time, next_time)\n",
    "                    candle['close'] = float(i.close)\n",
    "                    candle_array.append({\"timestamp\": candle['timestamp'], \"interval\": \"{}\".format(interval), \"open\": candle['open'], 'high': max(candle['high']), \"low\": min(candle['low']), \"close\": candle['close'], \"BV\": round(candle['BV'], 8), \"V\": round(candle['V'], 8)})\n",
    "                    # print()\n",
    "                    candle = {\n",
    "                      \"high\": [],\n",
    "                      \"low\": [],\n",
    "                      \"close\": 0,\n",
    "                      \"BV\": 0,\n",
    "                      \"V\": 0,\n",
    "                    }\n",
    "                    current_count[interval_type] = 0\n",
    "\n",
    "\n",
    "\n",
    "    # candle['close'] = float(pretend_data[-1].close)\n",
    "    # if(\"open\" not in candle and \"timestamp\" not in candle):\n",
    "    #         candle[\"open\"] = float(i.open)\n",
    "    #         candle['timestamp'] = i.timestamp\n",
    "    # candle_array.append({\"timestamp\": candle['timestamp'],\"interval\": \"{}\".format(interval), \"open\": candle['open'], 'high': max(candle['high']), \"low\": min(candle['low']), \"close\": candle['close'], \"BV\": round(candle['BV'], 8), \"V\": round(candle['V'], 8)})\n",
    "    candle_array = candle_array[1:]\n",
    "    return candle_array"
   ]
  },
  {
   "cell_type": "code",
   "execution_count": 14,
   "id": "aeea4c93",
   "metadata": {},
   "outputs": [],
   "source": [
    "m30 = convertCandles(\"XMR\", \"USDT\", \"30m\")\n",
    "h4 = convertCandles(\"XMR\", \"USDT\", \"4h\")"
   ]
  },
  {
   "cell_type": "code",
   "execution_count": 15,
   "id": "561c95d3",
   "metadata": {},
   "outputs": [
    {
     "name": "stdout",
     "output_type": "stream",
     "text": [
      "2246\n"
     ]
    }
   ],
   "source": [
    "print(len(h4))"
   ]
  },
  {
   "cell_type": "code",
   "execution_count": 30,
   "id": "b453d727",
   "metadata": {},
   "outputs": [],
   "source": [
    "SEQ_LEN = 100\n",
    "\n",
    "def to_sequences(data, seq_len):\n",
    "    d = []\n",
    "\n",
    "    for index in range(len(data) - seq_len):\n",
    "        d.append(data[index: index + seq_len])\n",
    "\n",
    "    return np.array(d)\n",
    "\n",
    "def preprocess(data_raw, seq_len, train_split):\n",
    "\n",
    "    data = to_sequences(data_raw, seq_len)\n",
    "\n",
    "    num_train = int(train_split * data.shape[0])\n",
    "\n",
    "    X_train = data[:num_train, :-1, :]\n",
    "    y_train = data[:num_train, -1, :]\n",
    "\n",
    "    X_test = data[num_train:, :-1, :]\n",
    "    y_test = data[num_train:, -1, :]\n",
    "\n",
    "    return X_train, y_train, X_test, y_test\n",
    "\n"
   ]
  },
  {
   "cell_type": "code",
   "execution_count": 22,
   "id": "15e2d683",
   "metadata": {},
   "outputs": [
    {
     "name": "stdout",
     "output_type": "stream",
     "text": [
      "99\n"
     ]
    }
   ],
   "source": [
    "print(len(X_train[0]))"
   ]
  },
  {
   "cell_type": "code",
   "execution_count": 24,
   "id": "a14a5f6f",
   "metadata": {},
   "outputs": [],
   "source": [
    "import pandas as pd\n",
    "\n",
    "prices = pd.DataFrame({'open': [i['open'] for i in h4],\n",
    "                       'close': [i['close'] for i in h4],\n",
    "                       'high': [i['high'] for i in h4],\n",
    "                       'low': [i['low'] for i in h4]},\n",
    "                       index=[datetime.fromtimestamp(int(i['timestamp']/1000)) for i in h4])"
   ]
  },
  {
   "cell_type": "code",
   "execution_count": 31,
   "id": "ca224f46",
   "metadata": {},
   "outputs": [],
   "source": [
    "X_train, y_train, X_test, y_test =\\\n",
    " preprocess(prices, SEQ_LEN, train_split = 0.95)"
   ]
  },
  {
   "cell_type": "code",
   "execution_count": 148,
   "id": "2131dcee",
   "metadata": {},
   "outputs": [],
   "source": [
    "def calculate_slopes(data, length):\n",
    "    LENGTH = 3\n",
    "    slope_array = []\n",
    "    intercept_array = []\n",
    "    for i in range(LENGTH, len(h4)):\n",
    "        slope, intercept, r, p, std_err = stats.linregress([int(i['timestamp']) for i in data[i-LENGTH:i]], [float(i['close']) for i in data[i-LENGTH:i]])\n",
    "        slope_array.append(slope)\n",
    "        intercept_array.append(intercept)\n",
    "#         def myfunc(x):\n",
    "#             return slope * x + intercept\n",
    "        \n",
    "#         mymodel = list(map(myfunc, [(i['timestamp']) for i in h4[i-LENGTH:i]]))\n",
    "# #         print(mymodel)\n",
    "#         plt.plot([datetime.fromtimestamp(int(i['timestamp']/1000)) for i in h4[i-LENGTH:i]], [float(i['close']) for i in h4[i-LENGTH:i]])\n",
    "#         # plt.plot(prices.index, mymodel)\n",
    "#         plt.plot([datetime.fromtimestamp(int(i['timestamp']/1000)) for i in h4[i-LENGTH:i]], mymodel)\n",
    "\n",
    "#         plt.show()\n",
    "\n",
    "    \n",
    "#     prices = pd.DataFrame({\n",
    "#                           'slope' : slope_array,\n",
    "#                       'intercept': intercept_array},\n",
    "#                        index=[datetime.fromtimestamp(int(i['timestamp']/1000)) for i in data[LENGTH:]])\n",
    "    prices = pd.DataFrame({'open': [i['open'] for i in h4],\n",
    "                           'close': [i['close'] for i in h4],\n",
    "                           'high': [i['high'] for i in h4],\n",
    "                           'low': [i['low'] for i in h4]},\n",
    "                           index=[datetime.fromtimestamp(int(i['timestamp']/1000)) for i in h4])\n",
    "    return prices"
   ]
  },
  {
   "cell_type": "code",
   "execution_count": 149,
   "id": "81422af0",
   "metadata": {},
   "outputs": [],
   "source": [
    "new_data = calculate_slopes(h4, 3)"
   ]
  },
  {
   "cell_type": "code",
   "execution_count": 151,
   "id": "9497c455",
   "metadata": {},
   "outputs": [],
   "source": [
    "from sklearn.preprocessing import MinMaxScaler\n",
    "scaler = MinMaxScaler()\n",
    "slope = new_data.open.values.reshape(-1,1)\n",
    "scaled_slope = scaler.fit_transform(slope)"
   ]
  },
  {
   "cell_type": "code",
   "execution_count": 152,
   "id": "06f6a942",
   "metadata": {},
   "outputs": [],
   "source": [
    "SEQ_LEN = 100\n",
    "\n",
    "def to_sequences(data, seq_len):\n",
    "    d = []\n",
    "\n",
    "    for index in range(len(data) - seq_len):\n",
    "        d.append(data[index: index + seq_len])\n",
    "\n",
    "    return np.array(d)\n",
    "\n",
    "def preprocess(data_raw, seq_len, train_split):\n",
    "\n",
    "    data = to_sequences(data_raw, seq_len)\n",
    "\n",
    "    num_train = int(train_split * data.shape[0])\n",
    "\n",
    "    X_train = data[:num_train, :-1, :]\n",
    "    y_train = data[:num_train, -1, :]\n",
    "\n",
    "    X_test = data[num_train:, :-1, :]\n",
    "    y_test = data[num_train:, -1, :]\n",
    "\n",
    "    return X_train, y_train, X_test, y_test\n"
   ]
  },
  {
   "cell_type": "code",
   "execution_count": 153,
   "id": "d075c358",
   "metadata": {},
   "outputs": [],
   "source": [
    "X_train, y_train, X_test, y_test =\\\n",
    " preprocess(scaled_slope, SEQ_LEN, train_split = 0.95)"
   ]
  },
  {
   "cell_type": "code",
   "execution_count": 154,
   "id": "9624c434",
   "metadata": {},
   "outputs": [
    {
     "data": {
      "text/plain": [
       "array([[0.03895283],\n",
       "       [0.04009106],\n",
       "       [0.04439105],\n",
       "       ...,\n",
       "       [0.78495848],\n",
       "       [0.78082712],\n",
       "       [0.7794781 ]])"
      ]
     },
     "execution_count": 154,
     "metadata": {},
     "output_type": "execute_result"
    }
   ],
   "source": [
    "y_train"
   ]
  },
  {
   "cell_type": "code",
   "execution_count": 155,
   "id": "18c5d5ae",
   "metadata": {},
   "outputs": [],
   "source": [
    "import keras\n",
    "import tensorflow\n",
    "from keras.layers import Bidirectional, CuDNNLSTM, Dropout, Dense, Activation, LSTM\n",
    "DROPOUT = 0.2\n",
    "WINDOW_SIZE = SEQ_LEN - 1\n",
    "\n",
    "model = keras.Sequential()\n",
    "\n",
    "model.add(Bidirectional(\n",
    "  LSTM(WINDOW_SIZE, return_sequences=True),\n",
    "  input_shape=(WINDOW_SIZE, X_train.shape[-1])\n",
    "))\n",
    "model.add(Dropout(rate=DROPOUT))\n",
    "\n",
    "model.add(Bidirectional(\n",
    "  LSTM((WINDOW_SIZE * 2), return_sequences=True)\n",
    "))\n",
    "model.add(Dropout(rate=DROPOUT))\n",
    "\n",
    "model.add(Bidirectional(\n",
    "  LSTM(WINDOW_SIZE, return_sequences=False)\n",
    "))\n",
    "\n",
    "model.add(Dense(units=1))\n",
    "\n",
    "model.add(Activation('linear'))"
   ]
  },
  {
   "cell_type": "code",
   "execution_count": 156,
   "id": "b7f9576f",
   "metadata": {},
   "outputs": [
    {
     "name": "stdout",
     "output_type": "stream",
     "text": [
      "Epoch 1/10\n",
      "29/29 [==============================] - 38s 1s/step - loss: 0.0088 - val_loss: 0.0125\n",
      "Epoch 2/10\n",
      "29/29 [==============================] - 37s 1s/step - loss: 0.0012 - val_loss: 0.0037\n",
      "Epoch 3/10\n",
      "29/29 [==============================] - 38s 1s/step - loss: 4.6636e-04 - val_loss: 0.0027\n",
      "Epoch 4/10\n",
      "29/29 [==============================] - 38s 1s/step - loss: 3.9336e-04 - val_loss: 0.0041\n",
      "Epoch 5/10\n",
      "29/29 [==============================] - 38s 1s/step - loss: 3.5910e-04 - val_loss: 0.0022\n",
      "Epoch 6/10\n",
      "29/29 [==============================] - 39s 1s/step - loss: 3.7296e-04 - val_loss: 0.0030\n",
      "Epoch 7/10\n",
      "29/29 [==============================] - 38s 1s/step - loss: 3.2309e-04 - val_loss: 0.0026\n",
      "Epoch 8/10\n",
      "29/29 [==============================] - 38s 1s/step - loss: 3.4897e-04 - val_loss: 0.0023\n",
      "Epoch 9/10\n",
      "29/29 [==============================] - 38s 1s/step - loss: 3.9093e-04 - val_loss: 0.0016\n",
      "Epoch 10/10\n",
      "29/29 [==============================] - 38s 1s/step - loss: 3.1547e-04 - val_loss: 0.0030\n"
     ]
    }
   ],
   "source": [
    "BATCH_SIZE = 64\n",
    "\n",
    "model.compile(\n",
    "    loss='mean_squared_error',\n",
    "    optimizer='adam'\n",
    ")\n",
    "\n",
    "history = model.fit(\n",
    "    X_train,\n",
    "    y_train,\n",
    "    epochs=10,\n",
    "    batch_size=BATCH_SIZE,\n",
    "    shuffle=True,\n",
    "    validation_split=0.1\n",
    ")"
   ]
  },
  {
   "cell_type": "code",
   "execution_count": 157,
   "id": "1036a2fd",
   "metadata": {},
   "outputs": [],
   "source": [
    "y_hat = model.predict(X_test)"
   ]
  },
  {
   "cell_type": "code",
   "execution_count": 158,
   "id": "5447d2a6",
   "metadata": {},
   "outputs": [],
   "source": [
    "y_test_inverse = scaler.inverse_transform(y_test)\n",
    "y_hat_inverse = scaler.inverse_transform(y_hat)"
   ]
  },
  {
   "cell_type": "code",
   "execution_count": 159,
   "id": "ea733c83",
   "metadata": {},
   "outputs": [
    {
     "data": {
      "text/plain": [
       "[<matplotlib.lines.Line2D at 0x1b5a34fd520>]"
      ]
     },
     "execution_count": 159,
     "metadata": {},
     "output_type": "execute_result"
    },
    {
     "data": {
      "image/png": "[encoded data removed]",
      "text/plain": [
       "<Figure size 432x288 with 1 Axes>"
      ]
     },
     "metadata": {
      "needs_background": "light"
     },
     "output_type": "display_data"
    }
   ],
   "source": [
    "plt.plot([i[0] for i in y_hat_inverse])\n",
    "plt.plot([i[0] for i in y_test_inverse])"
   ]
  },
  {
   "cell_type": "code",
   "execution_count": null,
   "id": "7e47e7d1",
   "metadata": {},
   "outputs": [],
   "source": []
  }
 ],
 "metadata": {
  "kernelspec": {
   "display_name": "Python 3 (ipykernel)",
   "language": "python",
   "name": "python3"
  },
  "language_info": {
   "codemirror_mode": {
    "name": "ipython",
    "version": 3
   },
   "file_extension": ".py",
   "mimetype": "text/x-python",
   "name": "python",
   "nbconvert_exporter": "python",
   "pygments_lexer": "ipython3",
   "version": "3.9.6"
  }
 },
 "nbformat": 4,
 "nbformat_minor": 5
}
